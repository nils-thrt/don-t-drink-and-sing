{
 "cells": [
  {
   "cell_type": "code",
   "execution_count": 7,
   "id": "3d540d79",
   "metadata": {},
   "outputs": [],
   "source": [
    "from flask import Flask, jsonify, render_template\n",
    "from google.cloud import firestore\n",
    "from flask_cors import CORS, cross_origin\n",
    "from spotipy.oauth2 import SpotifyOAuth\n",
    "from spotipy import Spotify\n",
    "\n",
    "from ign.spotify_secrets import SPOTIFY_CLIENT_ID, SPOTIFY_SECRET"
   ]
  },
  {
   "cell_type": "code",
   "execution_count": null,
   "id": "bec96b2c",
   "metadata": {},
   "outputs": [],
   "source": [
    "\n",
    "\n",
    "\n",
    "\n",
    "\n",
    "sp_oauth = SpotifyOAuth(\n",
    "    client_id=SPOTIFY_CLIENT_ID,\n",
    "    client_secret=SPOTIFY_SECRET,\n",
    "    redirect_uri=\"http://localhost:4200/spotify-callback\",\n",
    "    scope=\"user-read-private user-read-email\"\n",
    ")\n",
    "\n",
    "sp_oauth.get_access_token()"
   ]
  },
  {
   "cell_type": "markdown",
   "id": "1e1e85e0",
   "metadata": {},
   "source": [
    "http://localhost:4200/spotify-callback?code=AQBu9hPV_5bSnBoWXKTnFUwqQlI2cWTDjzWbNE5H5HvJ5ZymHhb3lm7SB7yVG2pwiecJRlzxkF3_un-jbvGNXkR83Ap62W1U_uNbtvEqstex2l7gTxnhNqcP8GiUI5phgTM8N-BkIrZJMfZv_2xQfYKw4r4XxdfPyd4Kp2n5Vn0jejrNngBotdkMb39F5fwmEQajcmk1Kr4YUEtt7fsj0m2zrVc8XsXEjBpA7tti"
   ]
  },
  {
   "cell_type": "code",
   "execution_count": 5,
   "id": "4c036f0b",
   "metadata": {},
   "outputs": [
    {
     "data": {
      "text/plain": [
       "'BQB7E_LUzWDCMSOpMIByZLzTDIPM3RmtZdpQueeAqw6QXBHQqXZOZsmjI0klJ5fBupYZ8v-8v9_9xlt7_3SFmj3RtuPCJr4_vsCtme9E4BPoUymdxVl7E4VA9cNJk5Zq-055bBqArBNd3ceDBkD74IlH5lqK7wpUVlOFQ4vxYf7z25XI0Xo30vL72E6quhljgaE90mZfheZZV7QjDB1aWPrcoMJblODBYH5bqCuuNYymkkXBMqQOVHEaGw'"
      ]
     },
     "execution_count": 5,
     "metadata": {},
     "output_type": "execute_result"
    }
   ],
   "source": [
    "code = \"AQBu9hPV_5bSnBoWXKTnFUwqQlI2cWTDjzWbNE5H5HvJ5ZymHhb3lm7SB7yVG2pwiecJRlzxkF3_un-jbvGNXkR83Ap62W1U_uNbtvEqstex2l7gTxnhNqcP8GiUI5phgTM8N-BkIrZJMfZv_2xQfYKw4r4XxdfPyd4Kp2n5Vn0jejrNngBotdkMb39F5fwmEQajcmk1Kr4YUEtt7fsj0m2zrVc8XsXEjBpA7tti\"\n",
    "\n",
    "sp_oauth.get_access_token(code=code, as_dict=False)"
   ]
  },
  {
   "cell_type": "code",
   "execution_count": 9,
   "id": "91c7474b",
   "metadata": {},
   "outputs": [],
   "source": [
    "token = \"BQB7E_LUzWDCMSOpMIByZLzTDIPM3RmtZdpQueeAqw6QXBHQqXZOZsmjI0klJ5fBupYZ8v-8v9_9xlt7_3SFmj3RtuPCJr4_vsCtme9E4BPoUymdxVl7E4VA9cNJk5Zq-055bBqArBNd3ceDBkD74IlH5lqK7wpUVlOFQ4vxYf7z25XI0Xo30vL72E6quhljgaE90mZfheZZV7QjDB1aWPrcoMJblODBYH5bqCuuNYymkkXBMqQOVHEaGw\"\n",
    "\n",
    "spotify = Spotify(auth=token)\n",
    "\n",
    "artists = spotify.current_user()"
   ]
  },
  {
   "cell_type": "code",
   "execution_count": 10,
   "id": "01950345",
   "metadata": {},
   "outputs": [
    {
     "data": {
      "text/plain": [
       "{'country': 'DE',\n",
       " 'display_name': 'Nils T',\n",
       " 'email': 'nils.terhart@gmail.com',\n",
       " 'explicit_content': {'filter_enabled': False, 'filter_locked': False},\n",
       " 'external_urls': {'spotify': 'https://open.spotify.com/user/910qx687hzkpc0nn8qjs240y7'},\n",
       " 'followers': {'href': None, 'total': 2},\n",
       " 'href': 'https://api.spotify.com/v1/users/910qx687hzkpc0nn8qjs240y7',\n",
       " 'id': '910qx687hzkpc0nn8qjs240y7',\n",
       " 'images': [{'height': 300,\n",
       "   'url': 'https://i.scdn.co/image/ab6775700000ee857761b83fbb81ef86bab9ce69',\n",
       "   'width': 300},\n",
       "  {'height': 64,\n",
       "   'url': 'https://i.scdn.co/image/ab67757000003b827761b83fbb81ef86bab9ce69',\n",
       "   'width': 64}],\n",
       " 'product': 'premium',\n",
       " 'type': 'user',\n",
       " 'uri': 'spotify:user:910qx687hzkpc0nn8qjs240y7'}"
      ]
     },
     "execution_count": 10,
     "metadata": {},
     "output_type": "execute_result"
    }
   ],
   "source": [
    "artists"
   ]
  }
 ],
 "metadata": {
  "kernelspec": {
   "display_name": "Python 3",
   "language": "python",
   "name": "python3"
  },
  "language_info": {
   "codemirror_mode": {
    "name": "ipython",
    "version": 3
   },
   "file_extension": ".py",
   "mimetype": "text/x-python",
   "name": "python",
   "nbconvert_exporter": "python",
   "pygments_lexer": "ipython3",
   "version": "3.11.11"
  }
 },
 "nbformat": 4,
 "nbformat_minor": 5
}
